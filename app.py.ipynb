{
 "cells": [
  {
   "cell_type": "code",
   "execution_count": null,
   "id": "e5b5de91",
   "metadata": {},
   "outputs": [
    {
     "name": "stdout",
     "output_type": "stream",
     "text": [
      " * Serving Flask app \"__main__\" (lazy loading)\n",
      " * Environment: production\n",
      "\u001b[31m   WARNING: This is a development server. Do not use it in a production deployment.\u001b[0m\n",
      "\u001b[2m   Use a production WSGI server instead.\u001b[0m\n",
      " * Debug mode: off\n"
     ]
    },
    {
     "name": "stderr",
     "output_type": "stream",
     "text": [
      " * Running on http://127.0.0.1:5000/ (Press CTRL+C to quit)\n",
      "[2022-02-06 20:18:15,059] ERROR in app: Exception on / [GET]\n",
      "Traceback (most recent call last):\n",
      "  File \"/Applications/anaconda3/lib/python3.9/site-packages/flask/app.py\", line 2447, in wsgi_app\n",
      "    response = self.full_dispatch_request()\n",
      "  File \"/Applications/anaconda3/lib/python3.9/site-packages/flask/app.py\", line 1952, in full_dispatch_request\n",
      "    rv = self.handle_user_exception(e)\n",
      "  File \"/Applications/anaconda3/lib/python3.9/site-packages/flask/app.py\", line 1821, in handle_user_exception\n",
      "    reraise(exc_type, exc_value, tb)\n",
      "  File \"/Applications/anaconda3/lib/python3.9/site-packages/flask/_compat.py\", line 39, in reraise\n",
      "    raise value\n",
      "  File \"/Applications/anaconda3/lib/python3.9/site-packages/flask/app.py\", line 1950, in full_dispatch_request\n",
      "    rv = self.dispatch_request()\n",
      "  File \"/Applications/anaconda3/lib/python3.9/site-packages/flask/app.py\", line 1936, in dispatch_request\n",
      "    return self.view_functions[rule.endpoint](**req.view_args)\n",
      "  File \"/var/folders/5t/c87t5nv56fz0m72v1cywyc5r0000gn/T/ipykernel_34475/2811567129.py\", line 13, in index\n",
      "    mars = mongo.db.mars.find_one()\n",
      "  File \"/Applications/anaconda3/lib/python3.9/site-packages/pymongo/collection.py\", line 1114, in find_one\n",
      "    for result in cursor.limit(-1):\n",
      "  File \"/Applications/anaconda3/lib/python3.9/site-packages/pymongo/cursor.py\", line 1159, in next\n",
      "    if len(self.__data) or self._refresh():\n",
      "  File \"/Applications/anaconda3/lib/python3.9/site-packages/pymongo/cursor.py\", line 1057, in _refresh\n",
      "    self.__session = self.__collection.database.client._ensure_session()\n",
      "  File \"/Applications/anaconda3/lib/python3.9/site-packages/pymongo/mongo_client.py\", line 1603, in _ensure_session\n",
      "    return self.__start_session(True, causal_consistency=False)\n",
      "  File \"/Applications/anaconda3/lib/python3.9/site-packages/pymongo/mongo_client.py\", line 1553, in __start_session\n",
      "    server_session = self._get_server_session()\n",
      "  File \"/Applications/anaconda3/lib/python3.9/site-packages/pymongo/mongo_client.py\", line 1589, in _get_server_session\n",
      "    return self._topology.get_server_session()\n",
      "  File \"/Applications/anaconda3/lib/python3.9/site-packages/pymongo/topology.py\", line 530, in get_server_session\n",
      "    session_timeout = self._check_session_support()\n",
      "  File \"/Applications/anaconda3/lib/python3.9/site-packages/pymongo/topology.py\", line 514, in _check_session_support\n",
      "    self._select_servers_loop(\n",
      "  File \"/Applications/anaconda3/lib/python3.9/site-packages/pymongo/topology.py\", line 216, in _select_servers_loop\n",
      "    raise ServerSelectionTimeoutError(\n",
      "pymongo.errors.ServerSelectionTimeoutError: localhost:27017: [Errno 61] Connection refused, Timeout: 30s, Topology Description: <TopologyDescription id: 620072fe124856b1de70cc47, topology_type: Unknown, servers: [<ServerDescription ('localhost', 27017) server_type: Unknown, rtt: None, error=AutoReconnect('localhost:27017: [Errno 61] Connection refused')>]>\n",
      "127.0.0.1 - - [06/Feb/2022 20:18:15] \"GET / HTTP/1.1\" 500 -\n",
      "127.0.0.1 - - [06/Feb/2022 20:18:15] \"GET /favicon.ico HTTP/1.1\" 404 -\n"
     ]
    }
   ],
   "source": [
    "from flask import Flask, render_template, redirect, url_for\n",
    "from flask_pymongo import PyMongo\n",
    "import scraping\n",
    "\n",
    "app = Flask(__name__)\n",
    "\n",
    "# Use flask_pymongo to set up mongo connection\n",
    "app.config[\"MONGO_URI\"] = \"mongodb://localhost:27017/mars_app\"\n",
    "mongo = PyMongo(app)\n",
    "\n",
    "@app.route(\"/\")\n",
    "def index():\n",
    "   mars = mongo.db.mars.find_one()\n",
    "   return render_template(\"index.html\", mars=mars)\n",
    "\n",
    "@app.route(\"/scrape\")\n",
    "def scrape():\n",
    "   mars = mongo.db.mars\n",
    "   mars_data = scraping.scrape_all()\n",
    "   mars.update({}, mars_data, upsert=True)\n",
    "   return redirect('/', code=302)\n",
    "\n",
    "if __name__ == \"__main__\":\n",
    "   app.run()\n"
   ]
  },
  {
   "cell_type": "code",
   "execution_count": null,
   "id": "ecf2c85e",
   "metadata": {},
   "outputs": [],
   "source": []
  }
 ],
 "metadata": {
  "kernelspec": {
   "display_name": "Python 3 (ipykernel)",
   "language": "python",
   "name": "python3"
  },
  "language_info": {
   "codemirror_mode": {
    "name": "ipython",
    "version": 3
   },
   "file_extension": ".py",
   "mimetype": "text/x-python",
   "name": "python",
   "nbconvert_exporter": "python",
   "pygments_lexer": "ipython3",
   "version": "3.9.7"
  }
 },
 "nbformat": 4,
 "nbformat_minor": 5
}
